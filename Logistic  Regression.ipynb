{
 "cells": [
  {
   "cell_type": "code",
   "execution_count": 1,
   "id": "e571e010",
   "metadata": {},
   "outputs": [],
   "source": [
    "# Importing necessary libraries\n",
    "import pandas as pd\n",
    "import numpy as np\n",
    "import matplotlib.pyplot as plt\n",
    "import pandas as pd \n",
    "import numpy as np\n",
    "import matplotlib.pyplot as plt\n",
    "from mpl_toolkits.mplot3d import Axes3D\n",
    "from sklearn.linear_model import LinearRegression, LogisticRegression\n",
    "from sklearn.model_selection import train_test_split\n",
    "from sklearn.preprocessing import MinMaxScaler\n",
    "import math\n",
    "from sklearn.metrics import accuracy_score\n"
   ]
  },
  {
   "cell_type": "markdown",
   "id": "fdd2a9bb",
   "metadata": {},
   "source": [
    "# Task 1: Loading data"
   ]
  },
  {
   "cell_type": "code",
   "execution_count": 2,
   "id": "fba00f74",
   "metadata": {},
   "outputs": [
    {
     "data": {
      "text/html": [
       "<div>\n",
       "<style scoped>\n",
       "    .dataframe tbody tr th:only-of-type {\n",
       "        vertical-align: middle;\n",
       "    }\n",
       "\n",
       "    .dataframe tbody tr th {\n",
       "        vertical-align: top;\n",
       "    }\n",
       "\n",
       "    .dataframe thead th {\n",
       "        text-align: right;\n",
       "    }\n",
       "</style>\n",
       "<table border=\"1\" class=\"dataframe\">\n",
       "  <thead>\n",
       "    <tr style=\"text-align: right;\">\n",
       "      <th></th>\n",
       "      <th>exam_1</th>\n",
       "      <th>exam_2</th>\n",
       "      <th>admitted</th>\n",
       "    </tr>\n",
       "  </thead>\n",
       "  <tbody>\n",
       "    <tr>\n",
       "      <th>0</th>\n",
       "      <td>34.623660</td>\n",
       "      <td>78.024693</td>\n",
       "      <td>0</td>\n",
       "    </tr>\n",
       "    <tr>\n",
       "      <th>1</th>\n",
       "      <td>30.286711</td>\n",
       "      <td>43.894998</td>\n",
       "      <td>0</td>\n",
       "    </tr>\n",
       "    <tr>\n",
       "      <th>2</th>\n",
       "      <td>35.847409</td>\n",
       "      <td>72.902198</td>\n",
       "      <td>0</td>\n",
       "    </tr>\n",
       "    <tr>\n",
       "      <th>3</th>\n",
       "      <td>60.182599</td>\n",
       "      <td>86.308552</td>\n",
       "      <td>1</td>\n",
       "    </tr>\n",
       "    <tr>\n",
       "      <th>4</th>\n",
       "      <td>79.032736</td>\n",
       "      <td>75.344376</td>\n",
       "      <td>1</td>\n",
       "    </tr>\n",
       "    <tr>\n",
       "      <th>...</th>\n",
       "      <td>...</td>\n",
       "      <td>...</td>\n",
       "      <td>...</td>\n",
       "    </tr>\n",
       "    <tr>\n",
       "      <th>95</th>\n",
       "      <td>83.489163</td>\n",
       "      <td>48.380286</td>\n",
       "      <td>1</td>\n",
       "    </tr>\n",
       "    <tr>\n",
       "      <th>96</th>\n",
       "      <td>42.261701</td>\n",
       "      <td>87.103851</td>\n",
       "      <td>1</td>\n",
       "    </tr>\n",
       "    <tr>\n",
       "      <th>97</th>\n",
       "      <td>99.315009</td>\n",
       "      <td>68.775409</td>\n",
       "      <td>1</td>\n",
       "    </tr>\n",
       "    <tr>\n",
       "      <th>98</th>\n",
       "      <td>55.340018</td>\n",
       "      <td>64.931938</td>\n",
       "      <td>1</td>\n",
       "    </tr>\n",
       "    <tr>\n",
       "      <th>99</th>\n",
       "      <td>74.775893</td>\n",
       "      <td>89.529813</td>\n",
       "      <td>1</td>\n",
       "    </tr>\n",
       "  </tbody>\n",
       "</table>\n",
       "<p>100 rows × 3 columns</p>\n",
       "</div>"
      ],
      "text/plain": [
       "       exam_1     exam_2  admitted\n",
       "0   34.623660  78.024693         0\n",
       "1   30.286711  43.894998         0\n",
       "2   35.847409  72.902198         0\n",
       "3   60.182599  86.308552         1\n",
       "4   79.032736  75.344376         1\n",
       "..        ...        ...       ...\n",
       "95  83.489163  48.380286         1\n",
       "96  42.261701  87.103851         1\n",
       "97  99.315009  68.775409         1\n",
       "98  55.340018  64.931938         1\n",
       "99  74.775893  89.529813         1\n",
       "\n",
       "[100 rows x 3 columns]"
      ]
     },
     "execution_count": 2,
     "metadata": {},
     "output_type": "execute_result"
    }
   ],
   "source": [
    "# Reading data\n",
    "df=pd.read_csv('exams.csv')\n",
    "df"
   ]
  },
  {
   "cell_type": "code",
   "execution_count": 3,
   "id": "fb0dcfd7",
   "metadata": {},
   "outputs": [
    {
     "name": "stdout",
     "output_type": "stream",
     "text": [
      "<class 'pandas.core.frame.DataFrame'>\n",
      "RangeIndex: 100 entries, 0 to 99\n",
      "Data columns (total 3 columns):\n",
      " #   Column    Non-Null Count  Dtype  \n",
      "---  ------    --------------  -----  \n",
      " 0   exam_1    100 non-null    float64\n",
      " 1   exam_2    100 non-null    float64\n",
      " 2   admitted  100 non-null    int64  \n",
      "dtypes: float64(2), int64(1)\n",
      "memory usage: 2.5 KB\n"
     ]
    }
   ],
   "source": [
    "df.info()"
   ]
  },
  {
   "cell_type": "code",
   "execution_count": 4,
   "id": "f5675767",
   "metadata": {},
   "outputs": [
    {
     "data": {
      "text/html": [
       "<div>\n",
       "<style scoped>\n",
       "    .dataframe tbody tr th:only-of-type {\n",
       "        vertical-align: middle;\n",
       "    }\n",
       "\n",
       "    .dataframe tbody tr th {\n",
       "        vertical-align: top;\n",
       "    }\n",
       "\n",
       "    .dataframe thead th {\n",
       "        text-align: right;\n",
       "    }\n",
       "</style>\n",
       "<table border=\"1\" class=\"dataframe\">\n",
       "  <thead>\n",
       "    <tr style=\"text-align: right;\">\n",
       "      <th></th>\n",
       "      <th>exam_1</th>\n",
       "      <th>exam_2</th>\n",
       "      <th>admitted</th>\n",
       "    </tr>\n",
       "  </thead>\n",
       "  <tbody>\n",
       "    <tr>\n",
       "      <th>count</th>\n",
       "      <td>100.000000</td>\n",
       "      <td>100.000000</td>\n",
       "      <td>100.000000</td>\n",
       "    </tr>\n",
       "    <tr>\n",
       "      <th>mean</th>\n",
       "      <td>65.644274</td>\n",
       "      <td>66.221998</td>\n",
       "      <td>0.600000</td>\n",
       "    </tr>\n",
       "    <tr>\n",
       "      <th>std</th>\n",
       "      <td>19.458222</td>\n",
       "      <td>18.582783</td>\n",
       "      <td>0.492366</td>\n",
       "    </tr>\n",
       "    <tr>\n",
       "      <th>min</th>\n",
       "      <td>30.058822</td>\n",
       "      <td>30.603263</td>\n",
       "      <td>0.000000</td>\n",
       "    </tr>\n",
       "    <tr>\n",
       "      <th>25%</th>\n",
       "      <td>50.919511</td>\n",
       "      <td>48.179205</td>\n",
       "      <td>0.000000</td>\n",
       "    </tr>\n",
       "    <tr>\n",
       "      <th>50%</th>\n",
       "      <td>67.032988</td>\n",
       "      <td>67.682381</td>\n",
       "      <td>1.000000</td>\n",
       "    </tr>\n",
       "    <tr>\n",
       "      <th>75%</th>\n",
       "      <td>80.212529</td>\n",
       "      <td>79.360605</td>\n",
       "      <td>1.000000</td>\n",
       "    </tr>\n",
       "    <tr>\n",
       "      <th>max</th>\n",
       "      <td>99.827858</td>\n",
       "      <td>98.869436</td>\n",
       "      <td>1.000000</td>\n",
       "    </tr>\n",
       "  </tbody>\n",
       "</table>\n",
       "</div>"
      ],
      "text/plain": [
       "           exam_1      exam_2    admitted\n",
       "count  100.000000  100.000000  100.000000\n",
       "mean    65.644274   66.221998    0.600000\n",
       "std     19.458222   18.582783    0.492366\n",
       "min     30.058822   30.603263    0.000000\n",
       "25%     50.919511   48.179205    0.000000\n",
       "50%     67.032988   67.682381    1.000000\n",
       "75%     80.212529   79.360605    1.000000\n",
       "max     99.827858   98.869436    1.000000"
      ]
     },
     "execution_count": 4,
     "metadata": {},
     "output_type": "execute_result"
    }
   ],
   "source": [
    "df.describe()"
   ]
  },
  {
   "cell_type": "code",
   "execution_count": 5,
   "id": "f1f0aaf0",
   "metadata": {},
   "outputs": [],
   "source": [
    "df_new=df.copy()"
   ]
  },
  {
   "cell_type": "code",
   "execution_count": 6,
   "id": "e6b0552f",
   "metadata": {},
   "outputs": [],
   "source": [
    "# Scaling our data.\n",
    "scaler=MinMaxScaler()\n",
    "df_new[['exam_1', 'exam_2']] = scaler.fit_transform(df[['exam_1', 'exam_2']])\n"
   ]
  },
  {
   "cell_type": "code",
   "execution_count": 7,
   "id": "54a081b6",
   "metadata": {},
   "outputs": [
    {
     "data": {
      "text/html": [
       "<div>\n",
       "<style scoped>\n",
       "    .dataframe tbody tr th:only-of-type {\n",
       "        vertical-align: middle;\n",
       "    }\n",
       "\n",
       "    .dataframe tbody tr th {\n",
       "        vertical-align: top;\n",
       "    }\n",
       "\n",
       "    .dataframe thead th {\n",
       "        text-align: right;\n",
       "    }\n",
       "</style>\n",
       "<table border=\"1\" class=\"dataframe\">\n",
       "  <thead>\n",
       "    <tr style=\"text-align: right;\">\n",
       "      <th></th>\n",
       "      <th>exam_1</th>\n",
       "      <th>exam_2</th>\n",
       "      <th>admitted</th>\n",
       "    </tr>\n",
       "  </thead>\n",
       "  <tbody>\n",
       "    <tr>\n",
       "      <th>0</th>\n",
       "      <td>0.065428</td>\n",
       "      <td>0.694655</td>\n",
       "      <td>0</td>\n",
       "    </tr>\n",
       "    <tr>\n",
       "      <th>1</th>\n",
       "      <td>0.003266</td>\n",
       "      <td>0.194705</td>\n",
       "      <td>0</td>\n",
       "    </tr>\n",
       "    <tr>\n",
       "      <th>2</th>\n",
       "      <td>0.082968</td>\n",
       "      <td>0.619618</td>\n",
       "      <td>0</td>\n",
       "    </tr>\n",
       "    <tr>\n",
       "      <th>3</th>\n",
       "      <td>0.431764</td>\n",
       "      <td>0.816001</td>\n",
       "      <td>1</td>\n",
       "    </tr>\n",
       "    <tr>\n",
       "      <th>4</th>\n",
       "      <td>0.701943</td>\n",
       "      <td>0.655392</td>\n",
       "      <td>1</td>\n",
       "    </tr>\n",
       "    <tr>\n",
       "      <th>...</th>\n",
       "      <td>...</td>\n",
       "      <td>...</td>\n",
       "      <td>...</td>\n",
       "    </tr>\n",
       "    <tr>\n",
       "      <th>95</th>\n",
       "      <td>0.765817</td>\n",
       "      <td>0.260407</td>\n",
       "      <td>1</td>\n",
       "    </tr>\n",
       "    <tr>\n",
       "      <th>96</th>\n",
       "      <td>0.174904</td>\n",
       "      <td>0.827651</td>\n",
       "      <td>1</td>\n",
       "    </tr>\n",
       "    <tr>\n",
       "      <th>97</th>\n",
       "      <td>0.992649</td>\n",
       "      <td>0.559166</td>\n",
       "      <td>1</td>\n",
       "    </tr>\n",
       "    <tr>\n",
       "      <th>98</th>\n",
       "      <td>0.362356</td>\n",
       "      <td>0.502865</td>\n",
       "      <td>1</td>\n",
       "    </tr>\n",
       "    <tr>\n",
       "      <th>99</th>\n",
       "      <td>0.640930</td>\n",
       "      <td>0.863188</td>\n",
       "      <td>1</td>\n",
       "    </tr>\n",
       "  </tbody>\n",
       "</table>\n",
       "<p>100 rows × 3 columns</p>\n",
       "</div>"
      ],
      "text/plain": [
       "      exam_1    exam_2  admitted\n",
       "0   0.065428  0.694655         0\n",
       "1   0.003266  0.194705         0\n",
       "2   0.082968  0.619618         0\n",
       "3   0.431764  0.816001         1\n",
       "4   0.701943  0.655392         1\n",
       "..       ...       ...       ...\n",
       "95  0.765817  0.260407         1\n",
       "96  0.174904  0.827651         1\n",
       "97  0.992649  0.559166         1\n",
       "98  0.362356  0.502865         1\n",
       "99  0.640930  0.863188         1\n",
       "\n",
       "[100 rows x 3 columns]"
      ]
     },
     "execution_count": 7,
     "metadata": {},
     "output_type": "execute_result"
    }
   ],
   "source": [
    "# Now, values are between 0 and 1\n",
    "df_new"
   ]
  },
  {
   "cell_type": "markdown",
   "id": "b57c9206",
   "metadata": {},
   "source": [
    "# Task 2: Visualization"
   ]
  },
  {
   "cell_type": "code",
   "execution_count": 8,
   "id": "3f013b2d",
   "metadata": {},
   "outputs": [
    {
     "data": {
      "image/png": "[encoded data removed]",
      "text/plain": [
       "<Figure size 800x600 with 1 Axes>"
      ]
     },
     "metadata": {},
     "output_type": "display_data"
    }
   ],
   "source": [
    "# Separating admitted and failed students\n",
    "admitted_students = df[df['admitted'] == 1]\n",
    "failed_students = df[df['admitted'] == 0]\n",
    "\n",
    "# Plotting\n",
    "plt.figure(figsize=(8, 6))\n",
    "plt.scatter(admitted_students['exam_1'], admitted_students['exam_2'], color='green', label='Admitted')\n",
    "plt.scatter(failed_students['exam_1'], failed_students['exam_2'], color='red', label='Failed')\n",
    "\n",
    "# Adding labels and title\n",
    "plt.xlabel('First Exam Score')\n",
    "plt.ylabel('Second Exam Score')\n",
    "plt.title('Exam Scores of Admitted vs. Failed Students')\n",
    "plt.legend()\n",
    "plt.show()"
   ]
  },
  {
   "cell_type": "markdown",
   "id": "76c3ab0e",
   "metadata": {},
   "source": [
    "# Task 3: Implementation of Logistic Regression from scratch"
   ]
  },
  {
   "cell_type": "code",
   "execution_count": 9,
   "id": "2b2ab056",
   "metadata": {},
   "outputs": [],
   "source": [
    "# Task 3: a\n",
    "# Sigmoid function\n",
    "def sigmoid(z):\n",
    "    return 1 / (1 + np.exp(-z))\n"
   ]
  },
  {
   "cell_type": "code",
   "execution_count": 10,
   "id": "4a33d2fb",
   "metadata": {},
   "outputs": [],
   "source": [
    "# Task 3: b\n",
    "# Cost function for logistic regression\n",
    "def compute_cost(X, y, theta):\n",
    "    m = len(y)\n",
    "    h = sigmoid(X.dot(theta))\n",
    "    # Calculating cost using element-wise operations\n",
    "    cost = (-1/m) * (y.T.dot(np.log(h)) + (1 - y).T.dot(np.log(1 - h)))\n",
    "    return cost\n"
   ]
  },
  {
   "cell_type": "code",
   "execution_count": 11,
   "id": "f8da204b",
   "metadata": {},
   "outputs": [],
   "source": [
    "# Task 3: c\n",
    "# Gradient descent for logistic regression\n",
    "def gradient_descent(X, y, theta, alpha, num_iters):\n",
    "    m = len(y)\n",
    "    cost_history = []\n",
    "\n",
    "    for i in range(num_iters):\n",
    "        # Hypothesis calculation\n",
    "        h = sigmoid(X.dot(theta))\n",
    "\n",
    "        # Gradient calculation\n",
    "        gradient = (1/m) * X.T.dot(h - y)\n",
    "        \n",
    "        # Updating theta simultaneously\n",
    "        theta -= alpha * gradient\n",
    "\n",
    "        # Saving cost for plotting\n",
    "        cost = compute_cost(X, y, theta)\n",
    "        cost_history.append(cost)\n",
    "        \n",
    "        # Printing cost every 10000 iterations\n",
    "        if i % 10000 == 0:\n",
    "            print(f\"Iteration {i}, Cost: {cost}\")\n",
    "    print(\"Final cost: \",cost)\n",
    "\n",
    "    return theta, cost_history\n"
   ]
  },
  {
   "cell_type": "code",
   "execution_count": null,
   "id": "a3dc7fe4",
   "metadata": {},
   "outputs": [],
   "source": []
  },
  {
   "cell_type": "code",
   "execution_count": 12,
   "id": "5ac35410",
   "metadata": {},
   "outputs": [
    {
     "name": "stdout",
     "output_type": "stream",
     "text": [
      "Iteration 0, Cost: 0.6927369641087057\n",
      "Iteration 10000, Cost: 0.37135834050346644\n",
      "Iteration 20000, Cost: 0.3036901712305147\n",
      "Iteration 30000, Cost: 0.2735343960873162\n",
      "Iteration 40000, Cost: 0.2563280864947464\n",
      "Iteration 50000, Cost: 0.2451727877821314\n",
      "Iteration 60000, Cost: 0.2373585011915502\n",
      "Iteration 70000, Cost: 0.23159386643681268\n",
      "Iteration 80000, Cost: 0.22718108900987102\n",
      "Iteration 90000, Cost: 0.2237082334738998\n",
      "Final cost:  0.22091587123845663\n",
      "Optimal theta values: [-8.18545745  9.34663335  8.76613616]\n"
     ]
    }
   ],
   "source": [
    "# Preparing data\n",
    "\n",
    "X = df_new[['exam_1', 'exam_2']].values\n",
    "y = df_new['admitted'].values\n",
    "\n",
    "# Adding intercept term to X\n",
    "X = np.hstack((np.ones((X.shape[0], 1)), X))\n",
    "\n",
    "# Initializing fitting parameters\n",
    "theta = np.zeros(X.shape[1])\n",
    "\n",
    "# Setting gradient descent parameters\n",
    "alpha = 0.01  # Learning rate\n",
    "num_iters = 100000 # Number of iterations\n",
    "\n",
    "# Performing gradient descent\n",
    "theta, cost_history = gradient_descent(X, y, theta, alpha, num_iters)\n",
    "\n",
    "# Printing theta values\n",
    "print(f'Optimal theta values: {theta}')\n",
    "\n",
    "\n",
    "\n"
   ]
  },
  {
   "cell_type": "code",
   "execution_count": 13,
   "id": "5f3e04cd",
   "metadata": {},
   "outputs": [
    {
     "data": {
      "image/png": "[encoded data removed]",
      "text/plain": [
       "<Figure size 640x480 with 1 Axes>"
      ]
     },
     "metadata": {},
     "output_type": "display_data"
    }
   ],
   "source": [
    "# Task 3: d\n",
    "# Plotting cost history\n",
    "plt.plot(range(num_iters), cost_history, label='Cost')\n",
    "plt.xlabel('Iterations')\n",
    "plt.ylabel('Cost')\n",
    "plt.title('Cost History over Iterations')\n",
    "plt.legend()\n",
    "plt.show()\n"
   ]
  },
  {
   "cell_type": "code",
   "execution_count": 14,
   "id": "5a6d533c",
   "metadata": {},
   "outputs": [
    {
     "data": {
      "image/png": "[encoded data removed]",
      "text/plain": [
       "<Figure size 640x480 with 1 Axes>"
      ]
     },
     "metadata": {},
     "output_type": "display_data"
    }
   ],
   "source": [
    "#Task 3: e\n",
    "\n",
    "# Defining x_values, ensuring that boundary line covers the full range of exam scores\n",
    "x_values = np.array([df_new['exam_1'].min() - 0.1, df_new['exam_1'].max() + 0.1])\n",
    "\n",
    "# Calculating y_values using the theta parameters\n",
    "y_values = -(theta[0] + theta[1] * x_values) / theta[2]\n",
    "\n",
    "# Plotting data points\n",
    "plt.scatter(df_new[df_new['admitted'] == 1]['exam_1'], df_new[df_new['admitted'] == 1]['exam_2'], \n",
    "            color='green', label='Admitted')\n",
    "plt.scatter(df_new[df_new['admitted'] == 0]['exam_1'], df_new[df_new['admitted'] == 0]['exam_2'], \n",
    "            color='red', label='Not Admitted')\n",
    "\n",
    "# Plotting decision boundary\n",
    "plt.plot(x_values, y_values, color='blue', label='Decision Boundary')\n",
    "\n",
    "# Setting labels, title, and legend\n",
    "plt.xlabel('First Exam Score')\n",
    "plt.ylabel('Second Exam Score')\n",
    "plt.title('Decision Boundary')\n",
    "plt.legend()\n",
    "plt.show()\n"
   ]
  },
  {
   "cell_type": "code",
   "execution_count": 15,
   "id": "b5aaa09e",
   "metadata": {},
   "outputs": [
    {
     "name": "stdout",
     "output_type": "stream",
     "text": [
      "Model accuracy on training data: 0.89\n",
      "Prediction for {55, 70, 1} (actual: 1): Predicted: 1\n",
      "Prediction for {40, 60, 0} (actual: 0): Predicted: 1\n"
     ]
    }
   ],
   "source": [
    "# Task 3: f\n",
    "def predict(X, theta):\n",
    "    return sigmoid(X @ theta) >= 0.5  # Predict 1 if probability >= 0.5, else 0\n",
    "\n",
    "# Making predictions on training data\n",
    "predictions = predict(X, theta)\n",
    "# Comparing predictions with actual labels and calculate accuracy\n",
    "accuracy = accuracy_score(y, predictions)\n",
    "\n",
    "# Printing accuracy\n",
    "print(f\"Model accuracy on training data: {accuracy}\")\n",
    "\n",
    "# Adding unseen data to check model predictions on these data\n",
    "# Adding intercept term\n",
    "unseen_data = np.array([\n",
    "    [1, 55, 70],  \n",
    "    [1, 40, 60]\n",
    "])\n",
    "new_prediction = predict(unseen_data, theta)\n",
    "\n",
    "# Printing results\n",
    "print(\"Prediction for {55, 70, 1} (actual: 1):\", \"Predicted:\", int(new_prediction[0]))\n",
    "print(\"Prediction for {40, 60, 0} (actual: 0):\", \"Predicted:\", int(new_prediction[1]))"
   ]
  },
  {
   "cell_type": "markdown",
   "id": "5d5afa1e",
   "metadata": {},
   "source": [
    "# Task 4: Logistic Regression using library"
   ]
  },
  {
   "cell_type": "code",
   "execution_count": 16,
   "id": "75e5a1ea",
   "metadata": {},
   "outputs": [
    {
     "name": "stdout",
     "output_type": "stream",
     "text": [
      "Model accuracy on training data: 89.00%\n",
      "Prediction for {55, 70} (actual 1): Predicted: 1\n",
      "Prediction for {40, 60} (actual 0): Predicted: 1\n"
     ]
    }
   ],
   "source": [
    "from sklearn.linear_model import LogisticRegression\n",
    "from sklearn.metrics import accuracy_score\n",
    "\n",
    "# Intializing features\n",
    "X_ = df_new[['exam_1', 'exam_2']].values\n",
    "y_ = df_new['admitted'].values\n",
    "\n",
    "# Initialize and train the logistic regression model\n",
    "model = LogisticRegression()\n",
    "model.fit(X_, y_)\n",
    "\n",
    "# Make predictions on the training data\n",
    "y_pred = model.predict(X_)\n",
    "\n",
    "# Calculate the accuracy\n",
    "accuracy_ = accuracy_score(y_, y_pred)\n",
    "print(f\"Model accuracy on training data: {accuracy * 100:.2f}%\")\n",
    "\n",
    "# Check model's predictions on specific cases\n",
    "new_data_lr = np.array([[55, 70], [40, 60]])\n",
    "new_y_pred = model.predict(new_data_lr)\n",
    "\n",
    "# Display results\n",
    "print(\"Prediction for {55, 70} (actual 1):\", \"Predicted:\", new_y_pred[0])\n",
    "print(\"Prediction for {40, 60} (actual 0):\", \"Predicted:\", new_y_pred[1])\n"
   ]
  },
  {
   "cell_type": "code",
   "execution_count": null,
   "id": "3eda1d64",
   "metadata": {},
   "outputs": [],
   "source": []
  },
  {
   "cell_type": "code",
   "execution_count": null,
   "id": "de3de5ad",
   "metadata": {},
   "outputs": [],
   "source": []
  },
  {
   "cell_type": "code",
   "execution_count": null,
   "id": "60f931ea",
   "metadata": {},
   "outputs": [],
   "source": []
  }
 ],
 "metadata": {
  "kernelspec": {
   "display_name": "Python 3 (ipykernel)",
   "language": "python",
   "name": "python3"
  },
  "language_info": {
   "codemirror_mode": {
    "name": "ipython",
    "version": 3
   },
   "file_extension": ".py",
   "mimetype": "text/x-python",
   "name": "python",
   "nbconvert_exporter": "python",
   "pygments_lexer": "ipython3",
   "version": "3.9.13"
  }
 },
 "nbformat": 4,
 "nbformat_minor": 5
}
